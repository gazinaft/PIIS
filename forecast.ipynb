{
 "cells": [
  {
   "cell_type": "markdown",
   "metadata": {},
   "source": [
    "# Лабораторна робота 04\n",
    "\n",
    "## 1. Завдання лабораторної роботи\n",
    "Задачею є виконати передбачення на основі створених даних про подальші результати гри.\n",
    "\n",
    "## 2. Опис використаних технологій\n",
    "Для виконання задачі я використав\n",
    "- Jupyter Notebook для кращої візуалізації\n",
    "- Мову Python\n",
    "\n",
    "Бібліотеки\n",
    "- `numpy` для математичних операцій\n",
    "- `pandas` для маніпуляцій з даними\n",
    "- `matplotlib` для візуалізації графіків\n",
    "- `scikit-learn` для моделі лінійної регресії, розбиття датасету на тестові і тренувальні дані, та метрики для аналізу результатуц \n",
    "\n",
    "\n",
    "## 3. Опис програмного коду\n",
    "Весь код можна побачити нижче, а репозиторій можна знайти за адресою https://github.com/gazinaft/PIIS"
   ]
  },
  {
   "cell_type": "markdown",
   "metadata": {},
   "source": [
    "### Імпорт бібліотек"
   ]
  },
  {
   "cell_type": "code",
   "execution_count": 1,
   "metadata": {},
   "outputs": [],
   "source": [
    "import numpy as np\n",
    "import pandas as pd\n",
    "import matplotlib.pyplot as plt\n",
    "from sklearn import metrics\n",
    "from sklearn import model_selection\n",
    "from sklearn.linear_model import LinearRegression"
   ]
  },
  {
   "cell_type": "markdown",
   "metadata": {},
   "source": [
    "### Читання з файлу"
   ]
  },
  {
   "cell_type": "code",
   "execution_count": 2,
   "metadata": {},
   "outputs": [
    {
     "name": "stdout",
     "output_type": "stream",
     "text": [
      "    Time   Score\n",
      "0    843   311.0\n",
      "1     52  -401.0\n",
      "2     73  -365.0\n",
      "3    477   194.0\n",
      "4     52  -401.0\n",
      "5    164  -253.0\n",
      "6    374    45.0\n",
      "7    194  -169.0\n",
      "8    259  -162.0\n",
      "9    240  -158.0\n",
      "10   144  -279.0\n",
      "11    62  -383.0\n",
      "12   929   344.0\n",
      "13   913   337.0\n",
      "14  1858  1098.0\n",
      "15  1473  1125.0\n",
      "16   139  -288.0\n",
      "17  1299   840.0\n",
      "18  1030   294.0\n",
      "19   459   178.0\n",
      "20   174  -235.0\n",
      "21   473   145.0\n",
      "22   162  -233.0\n",
      "23  1267   596.0\n",
      "24  1074   915.0\n",
      "25   268   -54.0\n",
      "26    52  -401.0\n",
      "27   924   455.0\n",
      "28   378    94.0\n",
      "29    78  -366.0\n",
      "    Time  Score\n",
      "30   419  166.0\n",
      "31   212 -133.0\n",
      "32   777  374.0\n",
      "33   454  139.0\n",
      "34   298   10.0\n",
      "35   177 -206.0\n",
      "36   194 -199.0\n",
      "37  1413 -393.0\n",
      "38   258 -102.0\n",
      "39   139 -288.0\n",
      "40   757  538.0\n",
      "41   354   39.0\n",
      "42  2318 -574.0\n",
      "43   704  389.0\n",
      "44    52 -401.0\n",
      "45   468   96.0\n",
      "46  1092  381.0\n",
      "47   194 -169.0\n",
      "48   179 -216.0\n",
      "49    53 -401.0\n",
      "50   189 -218.0\n",
      "51   834  403.0\n",
      "52   174 -215.0\n",
      "53   189 -168.0\n",
      "54   738  302.0\n",
      "55    67 -374.0\n",
      "56    52 -401.0\n",
      "57   233 -137.0\n",
      "58   458 -142.0\n",
      "59    88 -348.0\n"
     ]
    }
   ],
   "source": [
    "df = pd.read_csv('./search/result.csv')\n",
    "\n",
    "minimax = df[df.Agent == 'ExpectimaxAgent'][['Time', 'Score']]\n",
    "expectimax = df[df.Agent == 'MiniMaxAgent'][['Time', 'Score']]\n",
    "print(minimax)\n",
    "print(expectimax)"
   ]
  },
  {
   "cell_type": "markdown",
   "metadata": {},
   "source": [
    "### Розподіл даних"
   ]
  },
  {
   "cell_type": "code",
   "execution_count": 3,
   "metadata": {},
   "outputs": [
    {
     "data": {
      "image/png": "[encoded data removed]",
      "text/plain": [
       "<Figure size 432x288 with 1 Axes>"
      ]
     },
     "metadata": {
      "needs_background": "light"
     },
     "output_type": "display_data"
    },
    {
     "data": {
      "image/png": "[encoded data removed]",
      "text/plain": [
       "<Figure size 432x288 with 1 Axes>"
      ]
     },
     "metadata": {
      "needs_background": "light"
     },
     "output_type": "display_data"
    }
   ],
   "source": [
    "minimax.plot(x = 'Time', y = 'Score', kind = 'scatter', title = 'Minimax')\n",
    "expectimax.plot(x = 'Time', y = 'Score', kind = 'scatter', title = 'Expectimax')\n",
    "plt.show()"
   ]
  },
  {
   "cell_type": "markdown",
   "metadata": {},
   "source": [
    "### Розподіл даних на тренувальні та контрольні"
   ]
  },
  {
   "cell_type": "code",
   "execution_count": 4,
   "metadata": {},
   "outputs": [],
   "source": [
    "x_min_train, x_min_test, y_min_train, y_min_test = model_selection.train_test_split(\n",
    "    minimax.Time, minimax.Score, test_size=0.25,\n",
    "    random_state=42,\n",
    "    shuffle=True,\n",
    ")\n",
    "x_exp_train, x_exp_test, y_exp_train, y_exp_test = model_selection.train_test_split(\n",
    "    expectimax.Time, expectimax.Score, test_size=0.25,\n",
    "    random_state=42,\n",
    "    shuffle=True,\n",
    "\n",
    ")\n",
    "\n",
    "class_names = ['Time', 'Score']"
   ]
  },
  {
   "cell_type": "markdown",
   "metadata": {},
   "source": [
    "### Тренування моделі"
   ]
  },
  {
   "cell_type": "code",
   "execution_count": 5,
   "metadata": {},
   "outputs": [
    {
     "data": {
      "text/plain": [
       "LinearRegression(copy_X=True, fit_intercept=True, n_jobs=None, normalize=False)"
      ]
     },
     "execution_count": 5,
     "metadata": {},
     "output_type": "execute_result"
    }
   ],
   "source": [
    "min_regr = LinearRegression()\n",
    "exp_regr = LinearRegression()\n",
    "\n",
    "min_regr.fit(np.array(x_min_train).reshape(-1, 1), np.array(y_min_train).reshape(-1, 1))\n",
    "exp_regr.fit(np.array(x_exp_train).reshape(-1, 1), np.array(y_exp_train).reshape(-1, 1))"
   ]
  },
  {
   "cell_type": "markdown",
   "metadata": {},
   "source": [
    "### Результати тренування моделі"
   ]
  },
  {
   "cell_type": "code",
   "execution_count": 6,
   "metadata": {},
   "outputs": [],
   "source": [
    "min_preds = min_regr.predict(np.array(x_min_test).reshape(-1, 1))\n",
    "exp_preds = exp_regr.predict(np.array(x_exp_test).reshape(-1, 1))"
   ]
  },
  {
   "cell_type": "markdown",
   "metadata": {},
   "source": [
    "### Аналіз результатів досліджень"
   ]
  },
  {
   "cell_type": "code",
   "execution_count": 7,
   "metadata": {},
   "outputs": [
    {
     "data": {
      "image/png": "[encoded data removed]",
      "text/plain": [
       "<Figure size 432x288 with 1 Axes>"
      ]
     },
     "metadata": {
      "needs_background": "light"
     },
     "output_type": "display_data"
    }
   ],
   "source": [
    "minimax.plot(x = 'Time', y = 'Score', kind = 'scatter', title = 'Minimax')\n",
    "plt.plot(np.array(minimax.Time).reshape(-1, 1), min_regr.predict(np.array(minimax.Time).reshape(-1, 1)), color='blue', linewidth=3)\n",
    "plt.show()"
   ]
  },
  {
   "cell_type": "code",
   "execution_count": 8,
   "metadata": {},
   "outputs": [
    {
     "data": {
      "image/png": "[encoded data removed]",
      "text/plain": [
       "<Figure size 432x288 with 1 Axes>"
      ]
     },
     "metadata": {
      "needs_background": "light"
     },
     "output_type": "display_data"
    }
   ],
   "source": [
    "expectimax.plot(x = 'Time', y = 'Score', kind = 'scatter', title = 'Expectimax')\n",
    "plt.plot(np.array(expectimax.Time).reshape(-1, 1), exp_regr.predict(np.array(expectimax.Time).reshape(-1, 1)), color='blue', linewidth=3)\n",
    "plt.show()"
   ]
  },
  {
   "cell_type": "markdown",
   "metadata": {},
   "source": [
    "### Перевірка на валідність результату\n",
    "Результат валідний, якщо абсолютна помилка менше за стандартне відхилення"
   ]
  },
  {
   "cell_type": "code",
   "execution_count": 9,
   "metadata": {},
   "outputs": [
    {
     "name": "stdout",
     "output_type": "stream",
     "text": [
      "True\n",
      "True\n",
      "Predicted results of 8 games for expectimax\n",
      "Predicted results of 8 games for minimax\n"
     ]
    }
   ],
   "source": [
    "dev_min = np.std(y_min_train)\n",
    "dev_exp = np.std(y_exp_train)\n",
    "\n",
    "err_min = metrics.mean_absolute_error(y_pred=min_preds, y_true=y_min_test)\n",
    "err_exp = metrics.mean_absolute_error(y_pred=exp_preds, y_true=y_exp_test)\n",
    "\n",
    "print(dev_min > err_min)\n",
    "print(dev_exp > err_exp)\n",
    "print('Predicted results of ' + str(len(y_exp_test)) + ' games for expectimax')\n",
    "print('Predicted results of ' + str(len(y_exp_test)) + ' games for minimax')"
   ]
  },
  {
   "cell_type": "markdown",
   "metadata": {},
   "source": [
    "### Висновки\n",
    "У результаті я отимав 2 регресії. Обидві не перевищують критичні значення і робочі. Але регресія з експектімаксом виглядає дивно, через те, що агент експектімаксу знайшов оптимальну позицію і довго стояв на одному місці, і через це втрачав очки, а потім його знайшли привиди і він помер"
   ]
  },
  {
   "cell_type": "markdown",
   "metadata": {},
   "source": []
  }
 ],
 "metadata": {
  "interpreter": {
   "hash": "2be5faf79681da6f2a61fdfdd5405d65d042280f7fba6178067603e3a2925119"
  },
  "kernelspec": {
   "display_name": "Python 3.10.0 64-bit",
   "language": "python",
   "name": "python3"
  },
  "language_info": {
   "codemirror_mode": {
    "name": "ipython",
    "version": 3
   },
   "file_extension": ".py",
   "mimetype": "text/x-python",
   "name": "python",
   "nbconvert_exporter": "python",
   "pygments_lexer": "ipython3",
   "version": "3.8.10"
  },
  "orig_nbformat": 4
 },
 "nbformat": 4,
 "nbformat_minor": 2
}
