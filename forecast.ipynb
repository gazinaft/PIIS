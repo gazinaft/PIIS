{
 "cells": [
  {
   "cell_type": "markdown",
   "metadata": {},
   "source": [
    "# Лабораторна робота 04\n",
    "\n",
    "## 1. Завдання лабораторної роботи\n",
    "Задачею є виконати передбачення на основі створених даних про подальші результати гри.\n",
    "\n",
    "## 2. Опис використаних технологій\n",
    "Для виконання задачі я використав Jupyter Notebook для кращої візуалізації, мову Python та бібліотеки pandas для маніпуляцій з даними, matplotlib для візуалізації та модель лінійної регресії з scikit-learn\n",
    "\n",
    "## 3. Опис програмного коду\n",
    "Весь код можна побачити нижче, а репозиторій можна знайти за адресою https://github.com/gazinaft/PIIS"
   ]
  },
  {
   "cell_type": "markdown",
   "metadata": {},
   "source": [
    "### Імпорт бібліотек"
   ]
  },
  {
   "cell_type": "code",
   "execution_count": 5,
   "metadata": {},
   "outputs": [
    {
     "ename": "ModuleNotFoundError",
     "evalue": "No module named 'sklearn'",
     "output_type": "error",
     "traceback": [
      "\u001b[1;31m---------------------------------------------------------------------------\u001b[0m",
      "\u001b[1;31mModuleNotFoundError\u001b[0m                       Traceback (most recent call last)",
      "\u001b[1;32mC:\\Users\\685F~1\\AppData\\Local\\Temp/ipykernel_19916/580378154.py\u001b[0m in \u001b[0;36m<module>\u001b[1;34m\u001b[0m\n\u001b[0;32m      2\u001b[0m \u001b[1;32mimport\u001b[0m \u001b[0mpandas\u001b[0m \u001b[1;32mas\u001b[0m \u001b[0mpd\u001b[0m\u001b[1;33m\u001b[0m\u001b[1;33m\u001b[0m\u001b[0m\n\u001b[0;32m      3\u001b[0m \u001b[1;32mimport\u001b[0m \u001b[0mmatplotlib\u001b[0m\u001b[1;33m.\u001b[0m\u001b[0mpyplot\u001b[0m \u001b[1;32mas\u001b[0m \u001b[0mplt\u001b[0m\u001b[1;33m\u001b[0m\u001b[1;33m\u001b[0m\u001b[0m\n\u001b[1;32m----> 4\u001b[1;33m \u001b[1;32mfrom\u001b[0m \u001b[0msklearn\u001b[0m \u001b[1;32mimport\u001b[0m \u001b[0mlinear_model\u001b[0m\u001b[1;33m\u001b[0m\u001b[1;33m\u001b[0m\u001b[0m\n\u001b[0m",
      "\u001b[1;31mModuleNotFoundError\u001b[0m: No module named 'sklearn'"
     ]
    }
   ],
   "source": [
    "import numpy as np\n",
    "import pandas as pd\n",
    "import matplotlib.pyplot as plt\n",
    "from sklearn import metrics\n",
    "from sklearn import manifold\n",
    "from sklearn import model_selection\n",
    "from sklearn.linear_model import LinearRegression\n",
    "import seaborn as sns"
   ]
  },
  {
   "cell_type": "markdown",
   "metadata": {},
   "source": [
    "### Читання з файлу"
   ]
  },
  {
   "cell_type": "code",
   "execution_count": 6,
   "metadata": {},
   "outputs": [],
   "source": [
    "df = pd.read_csv('./search/result.csv')\n",
    "\n",
    "minimax = df[df.Agent == 'ExpectimaxAgent'][['Time', 'Score']]\n",
    "expectimax = df[df.Agent == 'MiniMaxAgent'][['Time', 'Score']]"
   ]
  },
  {
   "cell_type": "markdown",
   "metadata": {},
   "source": [
    "### Розподіл даних"
   ]
  },
  {
   "cell_type": "code",
   "execution_count": 8,
   "metadata": {},
   "outputs": [
    {
     "data": {
      "image/png": "[encoded data removed]",
      "text/plain": [
       "<Figure size 432x288 with 1 Axes>"
      ]
     },
     "metadata": {
      "needs_background": "light"
     },
     "output_type": "display_data"
    },
    {
     "data": {
      "image/png": "[encoded data removed]",
      "text/plain": [
       "<Figure size 432x288 with 1 Axes>"
      ]
     },
     "metadata": {
      "needs_background": "light"
     },
     "output_type": "display_data"
    }
   ],
   "source": [
    "minimax.plot(x = 'Time', y = 'Score', kind = 'scatter', title = 'Minimax')\n",
    "expectimax.plot(x = 'Time', y = 'Score', kind = 'scatter', title = 'Expectimax')\n",
    "plt.show()"
   ]
  },
  {
   "cell_type": "markdown",
   "metadata": {},
   "source": [
    "### Розподіл даних на тренувальні та контрольні"
   ]
  },
  {
   "cell_type": "code",
   "execution_count": null,
   "metadata": {},
   "outputs": [],
   "source": [
    "def X_y_split(df, target):\n",
    "    inputs = df.drop(target, axis=1)\n",
    "    targets = df[target]\n",
    "    return inputs, targets\n",
    "\n",
    "min_train, min_test = model_selection.train_test_split(\n",
    "    minimax, test_size=0.25,\n",
    "    random_state=42,\n",
    "    shuffle=True,\n",
    "    stratify=minimax.Score\n",
    ")\n",
    "\n",
    "x_min_train, y_min_train = X_y_split(min_train, 'Score')\n",
    "x_min_test, y_min_test = X_y_split(min_test, 'Score')\n",
    "\n",
    "exp_train, exp_test = model_selection.train_test_split(\n",
    "    expectimax, test_size=0.25,\n",
    "    random_state=42,\n",
    "    shuffle=True,\n",
    "    stratify=expectimax.Score\n",
    ")\n",
    "\n",
    "class_names = ['Time', 'Score']\n",
    "x_exp_train, y_exp_train = X_y_split(exp_train, 'Score')\n",
    "x_exp_test, y_exp_test = X_y_split(exp_test, 'Score')"
   ]
  },
  {
   "cell_type": "markdown",
   "metadata": {},
   "source": [
    "### Тренування моделі"
   ]
  },
  {
   "cell_type": "code",
   "execution_count": null,
   "metadata": {},
   "outputs": [],
   "source": [
    "min_regr = LinearRegression()\n",
    "exp_regr = LinearRegression()\n",
    "\n",
    "min_regr.fit(x_min_train, y_min_train)\n",
    "exp_regr.fit(x_exp_train, y_exp_train)"
   ]
  },
  {
   "cell_type": "markdown",
   "metadata": {},
   "source": [
    "### Результати тренування моделі"
   ]
  },
  {
   "cell_type": "code",
   "execution_count": null,
   "metadata": {},
   "outputs": [],
   "source": [
    "min_preds = min_regr.predict(x_min_test)\n",
    "exp_preds = exp_regr.predict(x_exp_test)"
   ]
  },
  {
   "cell_type": "markdown",
   "metadata": {},
   "source": [
    "### Аналіз результатів досліджень"
   ]
  },
  {
   "cell_type": "code",
   "execution_count": null,
   "metadata": {},
   "outputs": [],
   "source": [
    "matrix_min = metrics.confusion_matrix(\n",
    "    y_true=y_min_test,\n",
    "    y_pred=min_preds\n",
    ")\n",
    "sns.heatmap(data=matrix_min, annot=True)\n",
    "\n",
    "report_min = metrics.classification_report(\n",
    "    y_true=y_min_test,\n",
    "    y_pred=min_preds,\n",
    "    target_names=class_names,\n",
    ")\n",
    "print(report_min)"
   ]
  },
  {
   "cell_type": "code",
   "execution_count": null,
   "metadata": {},
   "outputs": [],
   "source": [
    "matrix_exp = metrics.confusion_matrix(\n",
    "    y_true=y_exp_test,\n",
    "    y_pred=exp_preds\n",
    ")\n",
    "sns.heatmap(data=matrix_exp, annot=True)\n",
    "\n",
    "report_exp = metrics.classification_report(\n",
    "    y_true=y_exp_test,\n",
    "    y_pred=exp_preds,\n",
    "    target_names=class_names,\n",
    ")\n",
    "print(report_exp)"
   ]
  },
  {
   "cell_type": "markdown",
   "metadata": {},
   "source": [
    "### Перевірка на валідність результату"
   ]
  },
  {
   "cell_type": "code",
   "execution_count": null,
   "metadata": {},
   "outputs": [],
   "source": [
    "dev_min = np.std(y_min_train)\n",
    "dev_exp = np.std(y_exp_train)\n",
    "\n",
    "err_min = metrics.mean_absolute_error(y_pred=min_preds, y_true=y_min_test)\n",
    "err_exp = metrics.mean_absolute_error(y_pred=exp_preds, y_true=y_exp_test)\n",
    "\n",
    "print(dev_min > err_min)\n",
    "print(dev_exp > err_exp)"
   ]
  }
 ],
 "metadata": {
  "interpreter": {
   "hash": "2be5faf79681da6f2a61fdfdd5405d65d042280f7fba6178067603e3a2925119"
  },
  "kernelspec": {
   "display_name": "Python 3.10.0 64-bit",
   "language": "python",
   "name": "python3"
  },
  "language_info": {
   "codemirror_mode": {
    "name": "ipython",
    "version": 3
   },
   "file_extension": ".py",
   "mimetype": "text/x-python",
   "name": "python",
   "nbconvert_exporter": "python",
   "pygments_lexer": "ipython3",
   "version": "3.10.0"
  },
  "orig_nbformat": 4
 },
 "nbformat": 4,
 "nbformat_minor": 2
}
